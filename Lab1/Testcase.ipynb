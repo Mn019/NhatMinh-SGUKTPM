{
 "cells": [
  {
   "cell_type": "code",
   "execution_count": 11,
   "id": "da21acbb-458b-4801-bd6d-0410577632d2",
   "metadata": {},
   "outputs": [
    {
     "name": "stdout",
     "output_type": "stream",
     "text": [
      "Tất cả test f1 đều đúng!\n"
     ]
    }
   ],
   "source": [
    "def f1(x):\n",
    "    return 2 * x if x > 10 else -x\n",
    "\n",
    "def test_f1():\n",
    "    assert f1(11) == 22      # x > 10\n",
    "    assert f1(10) == -10     # x = 10\n",
    "    assert f1(0) == 0        # x = 0\n",
    "    assert f1(-5) == 5       # x âm\n",
    "    print(\"Tất cả test f1 đều đúng!\")\n",
    "\n",
    "test_f1()"
   ]
  },
  {
   "cell_type": "code",
   "execution_count": 12,
   "id": "a31b287e-7e9e-4c70-a41b-2d8554c49b38",
   "metadata": {},
   "outputs": [
    {
     "name": "stdout",
     "output_type": "stream",
     "text": [
      "Hàm f1_bug có lỗi logic ở x = 0 và x < 0!\n"
     ]
    }
   ],
   "source": [
    "def f1_bug(x):\n",
    "    if x > 10:\n",
    "        return 2 * x\n",
    "    elif x > 0:\n",
    "        return -x\n",
    "    else:\n",
    "        return 2\n",
    "\n",
    "def test_f1_bug():\n",
    "    assert f1_bug(11) == 22      # Đúng\n",
    "    assert f1_bug(5) == -5       # Đúng\n",
    "    assert f1_bug(0) != 0        # Sai\n",
    "    assert f1_bug(-3) != 3       # Sai\n",
    "    print(\"Hàm f1_bug có lỗi logic ở x = 0 và x < 0!\")\n",
    "\n",
    "test_f1_bug()"
   ]
  },
  {
   "cell_type": "code",
   "execution_count": 13,
   "id": "bf794034-3415-49c6-934f-60759e7e9cf6",
   "metadata": {},
   "outputs": [
    {
     "name": "stdout",
     "output_type": "stream",
     "text": [
      "Hàm f2 có nhánh không bao giờ chạy: điều kiện x < 2 bị che bởi x < 10!\n"
     ]
    }
   ],
   "source": [
    "def f2(x):\n",
    "    if x < 10:\n",
    "        return 2 * x\n",
    "    elif x < 2:\n",
    "        return -x\n",
    "    else:\n",
    "        return 2 * x\n",
    "\n",
    "def test_f2():\n",
    "    assert f2(1) == 2       # Nhánh đầu\n",
    "    assert f2(2) == 4       # Nhánh đầu\n",
    "    assert f2(10) == 20     # Nhánh cuối\n",
    "    assert f2(15) == 30     # Nhánh cuối\n",
    "    print(\"Hàm f2 có nhánh không bao giờ chạy: điều kiện x < 2 bị che bởi x < 10!\")\n",
    "\n",
    "test_f2()"
   ]
  },
  {
   "cell_type": "code",
   "execution_count": 14,
   "id": "621f0feb-f116-40bd-ac1a-2075b5bea68d",
   "metadata": {},
   "outputs": [
    {
     "name": "stdout",
     "output_type": "stream",
     "text": [
      "Kiểm thử f3 hoàn tất, đã xử lý lỗi log!\n"
     ]
    }
   ],
   "source": [
    "import math\n",
    "\n",
    "def f3(x):\n",
    "    try:\n",
    "        if math.log(x * x * math.cos(x)) < 3 * x:\n",
    "            return 2 * x\n",
    "        else:\n",
    "            return 2 * x\n",
    "    except ValueError:\n",
    "        return None  # Trả về None nếu log bị lỗi\n",
    "\n",
    "def test_f3():\n",
    "    assert f3(1) == 2\n",
    "    assert f3(2) is None  # log âm → lỗi\n",
    "    assert f3(10) is None  # log âm → lỗi\n",
    "    assert f3(0) is None   # log(0) → lỗi\n",
    "    print(\"Kiểm thử f3 hoàn tất, đã xử lý lỗi log!\")\n",
    "\n",
    "test_f3()"
   ]
  },
  {
   "cell_type": "code",
   "execution_count": 15,
   "id": "74c57f06-693c-45de-95df-fea877b0a206",
   "metadata": {},
   "outputs": [
    {
     "name": "stdout",
     "output_type": "stream",
     "text": [
      "Hàm findMax có lỗi logic khi các số bằng nhau hoặc không vượt trội!\n"
     ]
    }
   ],
   "source": [
    "def findMax(num1, num2, num3):\n",
    "    max_val = 0\n",
    "    if num1 > num2 and num1 > num3:\n",
    "        max_val = num1\n",
    "    if num2 > num1 and num2 > num3:\n",
    "        max_val = num2\n",
    "    if num3 > num1 and num3 > num2:\n",
    "        max_val = num3\n",
    "    return max_val\n",
    "\n",
    "def test_findMax():\n",
    "    assert findMax(5, 3, 2) == 5      # OK\n",
    "    assert findMax(2, 6, 4) == 6      # OK\n",
    "    assert findMax(1, 2, 9) == 9      # OK\n",
    "    assert findMax(5, 5, 5) == 0      # Sai\n",
    "    assert findMax(7, 7, 3) == 0      # Sai\n",
    "    print(\"Hàm findMax có lỗi logic khi các số bằng nhau hoặc không vượt trội!\")\n",
    "\n",
    "test_findMax()"
   ]
  },
  {
   "cell_type": "code",
   "execution_count": 16,
   "id": "c8c11657-9809-40f8-8fa0-4de48de0b62e",
   "metadata": {},
   "outputs": [
    {
     "name": "stdout",
     "output_type": "stream",
     "text": [
      "Tất cả test solveQuartic đều đúng!\n"
     ]
    }
   ],
   "source": [
    "import math\n",
    "\n",
    "def solveQuartic(a, b, c):\n",
    "    x = []\n",
    "\n",
    "    if a == 0 and b == 0 and c == 0:\n",
    "        return -1, x  # Vô số nghiệm\n",
    "\n",
    "    if a == 0 and b == 0:\n",
    "        return 0, x   # Vô nghiệm\n",
    "\n",
    "    if a == 0:\n",
    "        y = -c / b\n",
    "        if y < 0:\n",
    "            return 0, x\n",
    "        x.append(math.sqrt(y))\n",
    "        x.append(-math.sqrt(y))\n",
    "        return 2, x\n",
    "\n",
    "    delta = b * b - 4 * a * c\n",
    "    if delta < 0:\n",
    "        return 0, x\n",
    "\n",
    "    y1 = (-b + math.sqrt(delta)) / (2 * a)\n",
    "    y2 = (-b - math.sqrt(delta)) / (2 * a)\n",
    "\n",
    "    if y1 >= 0:\n",
    "        x.append(math.sqrt(y1))\n",
    "        x.append(-math.sqrt(y1))\n",
    "    if y2 >= 0 and y2 != y1:\n",
    "        x.append(math.sqrt(y2))\n",
    "        x.append(-math.sqrt(y2))\n",
    "\n",
    "    return len(x), x\n",
    "def test_solveQuartic():\n",
    "    def approx_equal(a, b, tol=1e-6):\n",
    "        return abs(a - b) < tol\n",
    "\n",
    "    # TC1: Vô số nghiệm\n",
    "    n, x = solveQuartic(0, 0, 0)\n",
    "    assert n == -1\n",
    "\n",
    "    # TC2: Vô nghiệm\n",
    "    n, x = solveQuartic(0, 0, 1)\n",
    "    assert n == 0\n",
    "\n",
    "    # TC3: Phương trình bậc nhất → x = ±2\n",
    "    n, x = solveQuartic(0, 2, -8)\n",
    "    assert n == 2\n",
    "    assert any(approx_equal(val, 2) for val in x)\n",
    "\n",
    "    # TC4: y = 3 → x = ±√3\n",
    "    n, x = solveQuartic(1, -6, 9)\n",
    "    assert n == 2\n",
    "    assert any(approx_equal(val, math.sqrt(3)) for val in x)\n",
    "\n",
    "   # TC5: y = 2 → x = ±√2\n",
    "    n, x = solveQuartic(1, 0, -4)\n",
    "    assert n == 2\n",
    "\n",
    "    # TC6: delta < 0 → vô nghiệm\n",
    "    n, x = solveQuartic(1, 0, 4)\n",
    "    assert n == 0\n",
    "\n",
    "    # TC7: y = 0 → x = 0\n",
    "    n, x = solveQuartic(1, 0, 0)\n",
    "    assert n == 2\n",
    "    assert all(approx_equal(val, 0) for val in x)\n",
    "\n",
    "    print(\"Tất cả test solveQuartic đều đúng!\")\n",
    "\n",
    "test_solveQuartic()"
   ]
  },
  {
   "cell_type": "code",
   "execution_count": null,
   "id": "befeb470-a37b-4f24-a659-ca7c7fd924b4",
   "metadata": {},
   "outputs": [],
   "source": []
  }
 ],
 "metadata": {
  "kernelspec": {
   "display_name": "Python 3 (ipykernel)",
   "language": "python",
   "name": "python3"
  },
  "language_info": {
   "codemirror_mode": {
    "name": "ipython",
    "version": 3
   },
   "file_extension": ".py",
   "mimetype": "text/x-python",
   "name": "python",
   "nbconvert_exporter": "python",
   "pygments_lexer": "ipython3",
   "version": "3.12.7"
  }
 },
 "nbformat": 4,
 "nbformat_minor": 5
}
